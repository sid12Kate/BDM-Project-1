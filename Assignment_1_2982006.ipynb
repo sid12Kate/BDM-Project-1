{
 "cells": [
  {
   "cell_type": "code",
   "execution_count": 1,
   "metadata": {},
   "outputs": [],
   "source": [
    "downloads_RDD = sc.textFile(\"file:///home/siddhi123/assignment_01_bdm/*.gz\")"
   ]
  },
  {
   "cell_type": "code",
   "execution_count": 2,
   "metadata": {},
   "outputs": [
    {
     "data": {
      "text/plain": [
       "pyspark.rdd.RDD"
      ]
     },
     "execution_count": 2,
     "metadata": {},
     "output_type": "execute_result"
    }
   ],
   "source": [
    "type(downloads_RDD)"
   ]
  },
  {
   "cell_type": "code",
   "execution_count": 3,
   "metadata": {},
   "outputs": [
    {
     "data": {
      "text/plain": [
       "4297202"
      ]
     },
     "execution_count": 3,
     "metadata": {},
     "output_type": "execute_result"
    }
   ],
   "source": [
    "downloads_RDD.count()"
   ]
  },
  {
   "cell_type": "code",
   "execution_count": 4,
   "metadata": {},
   "outputs": [
    {
     "data": {
      "text/plain": [
       "['\"date\",\"time\",\"size\",\"r_version\",\"r_arch\",\"r_os\",\"package\",\"version\",\"country\",\"ip_id\"',\n",
       " '\"2019-03-02\",\"07:02:29\",164988,\"3.4.4\",\"x86_64\",\"linux-gnu\",\"tseries\",\"0.10-46\",\"US\",1',\n",
       " '\"2019-03-02\",\"07:02:28\",537530,\"3.4.4\",\"x86_64\",\"linux-gnu\",\"xts\",\"0.11-2\",\"US\",2',\n",
       " '\"2019-03-02\",\"07:02:26\",11233,\"3.4.3\",\"x86_64\",\"linux-gnu\",\"labeling\",\"0.3\",\"US\",3',\n",
       " '\"2019-03-02\",\"07:02:29\",142590,\"3.4.4\",\"x86_64\",\"linux-gnu\",\"quantmod\",\"0.4-13\",\"US\",1']"
      ]
     },
     "execution_count": 4,
     "metadata": {},
     "output_type": "execute_result"
    }
   ],
   "source": [
    "downloads_RDD.take(5)"
   ]
  },
  {
   "cell_type": "code",
   "execution_count": 2,
   "metadata": {},
   "outputs": [],
   "source": [
    "downloads_RDD = downloads_RDD.map(lambda x: x.split(','))"
   ]
  },
  {
   "cell_type": "code",
   "execution_count": 6,
   "metadata": {},
   "outputs": [
    {
     "data": {
      "text/plain": [
       "[['\"date\"',\n",
       "  '\"time\"',\n",
       "  '\"size\"',\n",
       "  '\"r_version\"',\n",
       "  '\"r_arch\"',\n",
       "  '\"r_os\"',\n",
       "  '\"package\"',\n",
       "  '\"version\"',\n",
       "  '\"country\"',\n",
       "  '\"ip_id\"'],\n",
       " ['\"2019-03-02\"',\n",
       "  '\"07:02:29\"',\n",
       "  '164988',\n",
       "  '\"3.4.4\"',\n",
       "  '\"x86_64\"',\n",
       "  '\"linux-gnu\"',\n",
       "  '\"tseries\"',\n",
       "  '\"0.10-46\"',\n",
       "  '\"US\"',\n",
       "  '1'],\n",
       " ['\"2019-03-02\"',\n",
       "  '\"07:02:28\"',\n",
       "  '537530',\n",
       "  '\"3.4.4\"',\n",
       "  '\"x86_64\"',\n",
       "  '\"linux-gnu\"',\n",
       "  '\"xts\"',\n",
       "  '\"0.11-2\"',\n",
       "  '\"US\"',\n",
       "  '2'],\n",
       " ['\"2019-03-02\"',\n",
       "  '\"07:02:26\"',\n",
       "  '11233',\n",
       "  '\"3.4.3\"',\n",
       "  '\"x86_64\"',\n",
       "  '\"linux-gnu\"',\n",
       "  '\"labeling\"',\n",
       "  '\"0.3\"',\n",
       "  '\"US\"',\n",
       "  '3'],\n",
       " ['\"2019-03-02\"',\n",
       "  '\"07:02:29\"',\n",
       "  '142590',\n",
       "  '\"3.4.4\"',\n",
       "  '\"x86_64\"',\n",
       "  '\"linux-gnu\"',\n",
       "  '\"quantmod\"',\n",
       "  '\"0.4-13\"',\n",
       "  '\"US\"',\n",
       "  '1']]"
      ]
     },
     "execution_count": 6,
     "metadata": {},
     "output_type": "execute_result"
    }
   ],
   "source": [
    "downloads_RDD.take(5)"
   ]
  },
  {
   "cell_type": "code",
   "execution_count": 10,
   "metadata": {},
   "outputs": [
    {
     "data": {
      "text/plain": [
       "[['date',\n",
       "  'time',\n",
       "  'size',\n",
       "  'r_version',\n",
       "  'r_arch',\n",
       "  'r_os',\n",
       "  'package',\n",
       "  'version',\n",
       "  'country',\n",
       "  'ip_id'],\n",
       " ['2019-03-02',\n",
       "  '07:02:29',\n",
       "  '164988',\n",
       "  '3.4.4',\n",
       "  'x86_64',\n",
       "  'linux-gnu',\n",
       "  'tseries',\n",
       "  '0.10-46',\n",
       "  'US',\n",
       "  '1'],\n",
       " ['2019-03-02',\n",
       "  '07:02:28',\n",
       "  '537530',\n",
       "  '3.4.4',\n",
       "  'x86_64',\n",
       "  'linux-gnu',\n",
       "  'xts',\n",
       "  '0.11-2',\n",
       "  'US',\n",
       "  '2'],\n",
       " ['2019-03-02',\n",
       "  '07:02:26',\n",
       "  '11233',\n",
       "  '3.4.3',\n",
       "  'x86_64',\n",
       "  'linux-gnu',\n",
       "  'labeling',\n",
       "  '0.3',\n",
       "  'US',\n",
       "  '3'],\n",
       " ['2019-03-02',\n",
       "  '07:02:29',\n",
       "  '142590',\n",
       "  '3.4.4',\n",
       "  'x86_64',\n",
       "  'linux-gnu',\n",
       "  'quantmod',\n",
       "  '0.4-13',\n",
       "  'US',\n",
       "  '1']]"
      ]
     },
     "execution_count": 10,
     "metadata": {},
     "output_type": "execute_result"
    }
   ],
   "source": [
    "def remove_quotation(x):\n",
    "    return([xx.replace('\"', '') for xx in x])\n",
    "downloads_RDD = downloads_RDD.map(remove_quotation)\n",
    "downloads_RDD.take(5)"
   ]
  },
  {
   "cell_type": "code",
   "execution_count": 8,
   "metadata": {},
   "outputs": [
    {
     "data": {
      "text/plain": [
       "[('2019-03-01', 25385), ('2019-03-02', 13344)]"
      ]
     },
     "execution_count": 8,
     "metadata": {},
     "output_type": "execute_result"
    }
   ],
   "source": [
    "#Question 1: Show number of downloads for package ggplot2 for each day (the 1st and 2nd of March).\n",
    "package_download_count = downloads_RDD.filter(lambda x: \"ggplot2\" in x)\n",
    "package_download_count = package_download_count.map(lambda x: (x[0], 1))\n",
    "package_download_count = package_download_count.reduceByKey(lambda a,b: a+b)\n",
    "package_download_count.collect()"
   ]
  },
  {
   "cell_type": "code",
   "execution_count": 9,
   "metadata": {},
   "outputs": [
    {
     "data": {
      "text/plain": [
       "[('US', 1776597),\n",
       " ('NA', 352318),\n",
       " ('CA', 324601),\n",
       " ('DE', 152275),\n",
       " ('GB', 146479),\n",
       " ('IN', 127671),\n",
       " ('HK', 111794),\n",
       " ('JP', 103439),\n",
       " ('CN', 101058),\n",
       " ('FR', 83768),\n",
       " ('ES', 81804),\n",
       " ('NL', 67038),\n",
       " ('AU', 63396),\n",
       " ('CO', 56621),\n",
       " ('CH', 54046),\n",
       " ('MX', 46061),\n",
       " ('IT', 44640),\n",
       " ('BR', 39300),\n",
       " ('KR', 38021),\n",
       " ('PL', 35978),\n",
       " ('RU', 35441),\n",
       " ('PK', 23701),\n",
       " ('ZA', 20407),\n",
       " ('SG', 19354),\n",
       " ('SE', 18766),\n",
       " ('TR', 17281),\n",
       " ('AT', 16532),\n",
       " ('TW', 16486),\n",
       " ('DK', 16369),\n",
       " ('ID', 15525),\n",
       " ('AR', 13587),\n",
       " ('BE', 13576),\n",
       " ('NO', 12880),\n",
       " ('EE', 12411),\n",
       " ('TH', 12098),\n",
       " ('PT', 11163),\n",
       " ('CL', 10736),\n",
       " ('PE', 10708),\n",
       " ('IE', 10541),\n",
       " ('FI', 9840),\n",
       " ('NZ', 9819),\n",
       " ('CZ', 9566),\n",
       " ('UA', 8832),\n",
       " ('PH', 7748),\n",
       " ('DO', 7598),\n",
       " ('RO', 7019),\n",
       " ('MY', 6645),\n",
       " ('KE', 6454),\n",
       " ('CR', 5971),\n",
       " ('VN', 5749),\n",
       " ('IR', 5193),\n",
       " ('GR', 5019),\n",
       " ('IL', 4663),\n",
       " ('HU', 4541),\n",
       " ('EC', 4323),\n",
       " ('EU', 3958),\n",
       " ('AE', 2891),\n",
       " ('NG', 2649),\n",
       " ('RS', 2608),\n",
       " ('GT', 2407),\n",
       " ('BG', 2375),\n",
       " ('SA', 2230),\n",
       " ('UY', 1938),\n",
       " ('SN', 1901),\n",
       " ('BF', 1734),\n",
       " ('EG', 1640),\n",
       " ('LB', 1500),\n",
       " ('IS', 1486),\n",
       " ('SK', 1451),\n",
       " ('SI', 1383),\n",
       " ('LT', 1381),\n",
       " ('GH', 1372),\n",
       " ('TN', 1338),\n",
       " ('LV', 1289),\n",
       " ('MU', 1274),\n",
       " ('LS', 1235),\n",
       " ('HR', 1234),\n",
       " ('LU', 1170),\n",
       " ('VE', 1169),\n",
       " ('AM', 1127),\n",
       " ('MA', 1088),\n",
       " ('PR', 1068),\n",
       " ('BO', 993),\n",
       " ('SV', 973),\n",
       " ('BD', 947),\n",
       " ('DZ', 846),\n",
       " ('LK', 839),\n",
       " ('TT', 839),\n",
       " ('AL', 761),\n",
       " ('KZ', 756),\n",
       " ('BT', 752),\n",
       " ('OM', 747),\n",
       " ('ET', 719),\n",
       " ('MZ', 704),\n",
       " ('ZW', 653),\n",
       " ('NP', 649),\n",
       " ('AP', 624),\n",
       " ('KW', 611),\n",
       " ('BW', 602),\n",
       " ('MO', 570),\n",
       " ('HN', 539),\n",
       " ('UG', 535),\n",
       " ('PA', 469),\n",
       " ('ZM', 457),\n",
       " ('ML', 433),\n",
       " ('MW', 419),\n",
       " ('CM', 413),\n",
       " ('MG', 405),\n",
       " ('RW', 404),\n",
       " ('AZ', 383),\n",
       " ('SC', 344),\n",
       " ('QA', 339),\n",
       " ('AD', 333),\n",
       " ('MK', 331),\n",
       " ('MT', 329),\n",
       " ('MN', 325),\n",
       " ('GN', 318),\n",
       " ('CY', 314),\n",
       " ('CI', 297),\n",
       " ('NE', 295),\n",
       " ('BA', 278),\n",
       " ('PS', 278),\n",
       " ('GE', 276),\n",
       " ('BJ', 249),\n",
       " ('JO', 237),\n",
       " ('BB', 235),\n",
       " ('MC', 230),\n",
       " ('TZ', 215),\n",
       " ('RE', 197),\n",
       " ('AO', 195),\n",
       " ('BY', 183),\n",
       " ('IM', 180),\n",
       " ('SL', 167),\n",
       " ('BH', 156),\n",
       " ('SO', 152),\n",
       " ('DJ', 151),\n",
       " ('JM', 146),\n",
       " ('GU', 141),\n",
       " ('CU', 139),\n",
       " ('AW', 138),\n",
       " ('MD', 125),\n",
       " ('LA', 91),\n",
       " ('IQ', 86),\n",
       " ('BI', 82),\n",
       " ('GA', 81),\n",
       " ('MV', 80),\n",
       " ('CK', 80),\n",
       " ('CD', 80),\n",
       " ('SD', 74),\n",
       " ('GM', 74),\n",
       " ('CG', 72),\n",
       " ('KH', 72),\n",
       " ('SR', 72),\n",
       " ('LI', 55),\n",
       " ('FK', 52),\n",
       " ('UZ', 41),\n",
       " ('BM', 40),\n",
       " ('A2', 38),\n",
       " ('GQ', 35),\n",
       " ('SZ', 35),\n",
       " ('FJ', 33),\n",
       " ('KG', 33),\n",
       " ('PY', 31),\n",
       " ('ME', 28),\n",
       " ('SY', 25),\n",
       " ('VI', 23),\n",
       " ('PG', 19),\n",
       " ('HT', 14),\n",
       " ('GI', 13),\n",
       " ('BN', 10),\n",
       " ('MM', 8),\n",
       " ('A1', 8),\n",
       " ('PF', 8),\n",
       " ('NI', 7),\n",
       " ('GY', 7),\n",
       " ('KM', 5),\n",
       " ('BS', 3),\n",
       " ('GL', 3),\n",
       " ('CW', 2),\n",
       " ('country', 2),\n",
       " ('NC', 1),\n",
       " ('SB', 1)]"
      ]
     },
     "execution_count": 9,
     "metadata": {},
     "output_type": "execute_result"
    }
   ],
   "source": [
    "#Question 2: Highest number of downloads by a country - on both days.\n",
    "package_download_count = downloads_RDD.map(lambda x: (x[8], 1))\n",
    "package_download_count = package_download_count.reduceByKey(lambda a,b: a+b)\n",
    "package_download_count = package_download_count.sortBy(lambda a: a[1], ascending= False)\n",
    "package_download_count.collect()"
   ]
  },
  {
   "cell_type": "code",
   "execution_count": 3,
   "metadata": {},
   "outputs": [
    {
     "data": {
      "text/plain": [
       "[('999989', '\"BClustLonG\"'),\n",
       " ('999983', '\"BClustLonG\"'),\n",
       " ('999983', '\"BClustLonG\"'),\n",
       " ('999983', '\"BClustLonG\"'),\n",
       " ('999983', '\"BClustLonG\"'),\n",
       " ('999983', '\"BClustLonG\"'),\n",
       " ('999983', '\"BClustLonG\"'),\n",
       " ('999940', '\"data.table\"'),\n",
       " ('999929', '\"RcppEigen\"'),\n",
       " ('999929', '\"RcppArmadillo\"'),\n",
       " ('999929', '\"scales\"')]"
      ]
     },
     "execution_count": 3,
     "metadata": {},
     "output_type": "execute_result"
    }
   ],
   "source": [
    "#Question 3:Show top 10 largest sized packages.\n",
    "x = downloads_RDD.map(lambda x: x[2])\n",
    "y = downloads_RDD.map(lambda x: x[6])\n",
    "z = x.zip(y)\n",
    "z.distinct()\n",
    "z = z.sortBy(lambda a:a[0], ascending=False)\n",
    "z.take(11)"
   ]
  },
  {
   "cell_type": "code",
   "execution_count": 11,
   "metadata": {},
   "outputs": [
    {
     "data": {
      "text/plain": [
       "[('rlang', 19600),\n",
       " ('Rcpp', 18384),\n",
       " ('tibble', 16290),\n",
       " ('pillar', 14957),\n",
       " ('yaml', 14630),\n",
       " ('openssl', 14407),\n",
       " ('stringr', 14112),\n",
       " ('R6', 13965),\n",
       " ('fansi', 13796),\n",
       " ('cli', 13678)]"
      ]
     },
     "execution_count": 11,
     "metadata": {},
     "output_type": "execute_result"
    }
   ],
   "source": [
    "#Question 4:What were the top 10 most popular packages on 2nd of March?\n",
    "package_download_count = downloads_RDD.filter(lambda x: \"2019-03-02\" in x)\n",
    "package_download_count = package_download_count.map(lambda x: (x[6],1))\n",
    "package_download_count = package_download_count.reduceByKey(lambda a,b: a+b)\n",
    "package_download_count = package_download_count.sortBy(lambda a:a[1], ascending=False)\n",
    "package_download_count.take(10)"
   ]
  },
  {
   "cell_type": "code",
   "execution_count": 14,
   "metadata": {},
   "outputs": [
    {
     "data": {
      "text/plain": [
       "[('mingw32', 26172)]"
      ]
     },
     "execution_count": 14,
     "metadata": {},
     "output_type": "execute_result"
    }
   ],
   "source": [
    "#Question 5:What OS is used for downloading the most popular package? - on both days.\n",
    "package = downloads_RDD.map(lambda x: (x[6],1))\n",
    "package = package.reduceByKey(lambda a,b: a+b)\n",
    "package = package.sortBy(lambda a:a[1], ascending=False)\n",
    "z = package.take(1)\n",
    "os = downloads_RDD.filter(lambda x: (z[0][0]) in x)\n",
    "os = os.map(lambda x: (x[5],1))\n",
    "os = os.reduceByKey(lambda a,b: a+b)\n",
    "os = os.sortBy(lambda a: a[1], ascending=False)\n",
    "os.take(1)\n",
    "\n"
   ]
  },
  {
   "cell_type": "code",
   "execution_count": 14,
   "metadata": {},
   "outputs": [
    {
     "data": {
      "text/plain": [
       "[('ggplot2', 228)]"
      ]
     },
     "execution_count": 14,
     "metadata": {},
     "output_type": "execute_result"
    }
   ],
   "source": [
    "#Question 6: What is the most popular package in Ireland?\n",
    "package_download_count = downloads_RDD.filter(lambda x: \"IE\" in x)\n",
    "package_download_count = package_download_count.map(lambda x: (x[6],1))\n",
    "package_download_count = package_download_count.reduceByKey(lambda a,b: a+b)\n",
    "package_download_count = package_download_count.sortBy(lambda a:a[1], ascending=False)\n",
    "package_download_count.take(1)"
   ]
  },
  {
   "cell_type": "code",
   "execution_count": 18,
   "metadata": {},
   "outputs": [
    {
     "name": "stdout",
     "output_type": "stream",
     "text": [
      "[('8', 228763)]\n",
      "[('mingw32', 108025)]\n"
     ]
    }
   ],
   "source": [
    "#Question 7:What is the highest number of downloads by a single machine? What OS it has?\n",
    "x = downloads_RDD.map(lambda x: (x[9],1))\n",
    "x = x.reduceByKey(lambda a,b: a+b)\n",
    "x = x.sortBy(lambda a:a[1], ascending=False)\n",
    "z = x.take(1)\n",
    "y = downloads_RDD.filter(lambda x: z[0][0] in x)\n",
    "y = y.map(lambda x: (x[5],1))\n",
    "y = y.reduceByKey(lambda a,b: a+b)\n",
    "y = y.sortBy(lambda a:a[1], ascending=False)\n",
    "os = y.take(1)\n",
    "print(z)\n",
    "print(os)\n"
   ]
  },
  {
   "cell_type": "code",
   "execution_count": 20,
   "metadata": {},
   "outputs": [
    {
     "data": {
      "text/plain": [
       "[('mingw32', 2000498)]"
      ]
     },
     "execution_count": 20,
     "metadata": {},
     "output_type": "execute_result"
    }
   ],
   "source": [
    "#Question 8:What OS is most popular among the R programmers?\n",
    "os = downloads_RDD.map(lambda x: (x[5],1))\n",
    "os = os.reduceByKey(lambda a,b: a+b)\n",
    "os = os.sortBy(lambda a: a[1], ascending=False)\n",
    "os.take(1)"
   ]
  },
  {
   "cell_type": "code",
   "execution_count": 18,
   "metadata": {},
   "outputs": [
    {
     "data": {
      "text/plain": [
       "[('i386', 153963)]"
      ]
     },
     "execution_count": 18,
     "metadata": {},
     "output_type": "execute_result"
    }
   ],
   "source": [
    "#Question 9:How many R users still use 32 bit machines?\n",
    "y = downloads_RDD.filter(lambda x: \"i386\" in x)\n",
    "y = y.map(lambda x: (x[4],1))\n",
    "y = y.reduceByKey(lambda a,b: a+b)\n",
    "y.collect()"
   ]
  },
  {
   "cell_type": "code",
   "execution_count": 21,
   "metadata": {},
   "outputs": [
    {
     "data": {
      "text/plain": [
       "468436"
      ]
     },
     "execution_count": 21,
     "metadata": {},
     "output_type": "execute_result"
    }
   ],
   "source": [
    "#Question 10: List total number of incomplete records - lines which have missing values.\n",
    "missing = downloads_RDD.filter(lambda x: \"NA\" in x)\n",
    "missing.count()"
   ]
  },
  {
   "cell_type": "code",
   "execution_count": 4,
   "metadata": {},
   "outputs": [],
   "source": [
    "#END"
   ]
  },
  {
   "cell_type": "code",
   "execution_count": null,
   "metadata": {},
   "outputs": [],
   "source": []
  }
 ],
 "metadata": {
  "kernelspec": {
   "display_name": "Python 3",
   "language": "python",
   "name": "python3"
  },
  "language_info": {
   "codemirror_mode": {
    "name": "ipython",
    "version": 3
   },
   "file_extension": ".py",
   "mimetype": "text/x-python",
   "name": "python",
   "nbconvert_exporter": "python",
   "pygments_lexer": "ipython3",
   "version": "3.5.2"
  }
 },
 "nbformat": 4,
 "nbformat_minor": 2
}
